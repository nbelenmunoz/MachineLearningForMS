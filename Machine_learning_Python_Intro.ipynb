{
  "nbformat": 4,
  "nbformat_minor": 0,
  "metadata": {
    "colab": {
      "provenance": [],
      "collapsed_sections": [
        "i3vW1w0RIpuP"
      ],
      "include_colab_link": true
    },
    "kernelspec": {
      "name": "python3",
      "display_name": "Python 3"
    },
    "language_info": {
      "name": "python"
    }
  },
  "cells": [
    {
      "cell_type": "markdown",
      "metadata": {
        "id": "view-in-github",
        "colab_type": "text"
      },
      "source": [
        "<a href=\"https://colab.research.google.com/github/nbelenmunoz/MachineLearningForMS/blob/main/Machine_learning_Python_Intro.ipynb\" target=\"_parent\"><img src=\"https://colab.research.google.com/assets/colab-badge.svg\" alt=\"Open In Colab\"/></a>"
      ]
    },
    {
      "cell_type": "markdown",
      "source": [
        "# What is Python\n",
        "\n",
        "- High-level language\n",
        "- Interpreted\n",
        "- General-Purpose\n",
        "- Dynamic Typing\n",
        "- Designed for Readability (White Space matters!)\n",
        "- Open-Source"
      ],
      "metadata": {
        "id": "4tHJR4hQNh99"
      }
    },
    {
      "cell_type": "markdown",
      "source": [
        "# Variables\n",
        "\n",
        "Variables are used to store data. In Python, they don't require explicit type declaration like in other languages (e.g., C++).\n",
        "\n",
        "Python supports various built-in data types (int, float, str, bool)\n"
      ],
      "metadata": {
        "id": "4RlFZekbcofq"
      }
    },
    {
      "cell_type": "code",
      "source": [
        "# Assigning a value to a variable\n",
        "x = 10  # Integer\n",
        "y = 3.14  # Float\n",
        "name = \"Belen\"  # String\n",
        "is_active = True  # Boolean\n",
        "print(is_active, x, y)"
      ],
      "metadata": {
        "id": "Etq1sUitcJqV",
        "colab": {
          "base_uri": "https://localhost:8080/"
        },
        "outputId": "edada379-6479-4fff-ba4b-7337773a8efc"
      },
      "execution_count": 4,
      "outputs": [
        {
          "output_type": "stream",
          "name": "stdout",
          "text": [
            "True 10 3.14\n",
            "String variable: Belen\n"
          ]
        }
      ]
    },
    {
      "cell_type": "markdown",
      "source": [
        "\n",
        "\n",
        "##### **Task: Define a few variables of different types. Print them to see how they behave**\n",
        "\n"
      ],
      "metadata": {
        "id": "vyQtzzBPjeMD"
      }
    },
    {
      "cell_type": "code",
      "source": [
        "print(\"String variable:\", name)\n",
        "task = False\n",
        "print(\"task uncomplete\", task)"
      ],
      "metadata": {
        "colab": {
          "base_uri": "https://localhost:8080/"
        },
        "id": "h2-EJwzpNU74",
        "outputId": "8a19754d-1cbb-4528-cfe0-5395098ebcae"
      },
      "execution_count": 7,
      "outputs": [
        {
          "output_type": "stream",
          "name": "stdout",
          "text": [
            "String variable: Belen\n",
            "task uncomplete False\n"
          ]
        }
      ]
    },
    {
      "cell_type": "markdown",
      "source": [
        "# Basic Operations\n",
        "\n",
        "## Standard Math Operations\n"
      ],
      "metadata": {
        "id": "ecQHr9v8cjZn"
      }
    },
    {
      "cell_type": "code",
      "source": [
        "# Arithmetic Operations\n",
        "add = 5 + 3\n",
        "subtract = 10 - 2\n",
        "multiplication = 4 * 5\n",
        "# Arithmetic Operations\n",
        "add = 5 + 3\n",
        "subtract = 10 - 2\n",
        "multiplication = 4 * 5\n",
        "division = 20 / 4\n",
        "modulus = 7 % 3  # Modulo: returns remainder\n",
        "print(\"Add=\", add, \"\\nsubtract =\", subtract, \"\\nmultiplication =\", multiplication,\"\\ndivision=\", division, \"\\nmodulus=\", modulus)"
      ],
      "metadata": {
        "id": "89Rc2TWhcfjB",
        "colab": {
          "base_uri": "https://localhost:8080/"
        },
        "outputId": "01fecaed-67d6-49eb-e403-a1493298b8d9"
      },
      "execution_count": 15,
      "outputs": [
        {
          "output_type": "stream",
          "name": "stdout",
          "text": [
            "Add= 8 \n",
            "subtract = 8 \n",
            "multiplication = 20 \n",
            "division= 5.0 \n",
            "modulus= 1\n"
          ]
        }
      ]
    },
    {
      "cell_type": "markdown",
      "source": [
        "You can perform some basic math operations on variables defined earlier"
      ],
      "metadata": {
        "id": "plmuF5acc5ii"
      }
    },
    {
      "cell_type": "markdown",
      "source": [
        "# Control Flow and Functions\n",
        "\n",
        "## Conditionals\n",
        "\n",
        "Helps control the flow based on certain conditions (`like if`, `else`)"
      ],
      "metadata": {
        "id": "1n6o6DSYdeV5"
      }
    },
    {
      "cell_type": "code",
      "source": [
        "# Conditional Statement Example\n",
        "temperature = 22\n",
        "if temperature > 30:\n",
        "    print(\"It's hot!\")\n",
        "elif temperature > 20 and temperature < 25:\n",
        "  print(\"Its not so hot\")\n",
        "else:\n",
        "    print(\"It's a comfortable temperature.\")"
      ],
      "metadata": {
        "colab": {
          "base_uri": "https://localhost:8080/"
        },
        "id": "sM6P4WFQdjQJ",
        "outputId": "29f3f929-97d3-4658-ee7e-3319e6f8626c"
      },
      "execution_count": 52,
      "outputs": [
        {
          "output_type": "stream",
          "name": "stdout",
          "text": [
            "Its not so hot\n"
          ]
        }
      ]
    },
    {
      "cell_type": "markdown",
      "source": [
        "##### **Task: Write a Python script to process a list of students' grades and assign a status based on their scores**\n",
        "\n",
        "- Students can fall into these categories (Excellent, Good, Fair, Sufficient, Fail)"
      ],
      "metadata": {
        "id": "a19fgXfmlOZG"
      }
    },
    {
      "cell_type": "code",
      "source": [
        "students = [\n",
        "    {\"name\": \"Belen\", \"score\": 95},\n",
        "    {\"name\": \"Nathalia\",   \"score\": 82},\n",
        "    {\"name\": \"Ben\", \"score\": 77},\n",
        "    {\"name\": \"Munoz\",  \"score\": 62},\n",
        "    {\"name\": \"Duran\",   \"score\": 45}\n",
        "]\n",
        "\n",
        "for student in students:\n",
        "    score = student[\"score\"]\n",
        "\n",
        "    if score >= 90:\n",
        "        status = \"Excellent\"\n",
        "    elif score >= 80:\n",
        "        status = \"Good\"\n",
        "    elif score >= 70:\n",
        "        status = \"Fair\"\n",
        "    elif score >= 60:\n",
        "        status = \"Sufficient\"\n",
        "    else:\n",
        "        status = \"Fail\"\n",
        "\n",
        "    print(f\"{student['name']} scored {score} - Status: {status}\")\n"
      ],
      "metadata": {
        "colab": {
          "base_uri": "https://localhost:8080/"
        },
        "id": "6Y-KnZ7WOpzI",
        "outputId": "48a77f5a-25dc-41b4-ae5b-0c24422c97f6"
      },
      "execution_count": 53,
      "outputs": [
        {
          "output_type": "stream",
          "name": "stdout",
          "text": [
            "Belen scored 95 - Status: Excellent\n",
            "Nathalia scored 82 - Status: Good\n",
            "Ben scored 77 - Status: Fair\n",
            "Munoz scored 62 - Status: Sufficient\n",
            "Duran scored 45 - Status: Fail\n"
          ]
        }
      ]
    },
    {
      "cell_type": "markdown",
      "source": [
        "## Loops\n",
        "\n",
        "### For Loop"
      ],
      "metadata": {
        "id": "3JjC0OEZd7Kh"
      }
    },
    {
      "cell_type": "code",
      "source": [
        "# Iterating over a sequence of values (e.g., range, list, etc.).\n",
        "\n",
        "# Using a for loop to print numbers from 1 to 5\n",
        "for i in range(1, 6):\n",
        "    print(i)"
      ],
      "metadata": {
        "id": "6_PBTYgBeEcP",
        "colab": {
          "base_uri": "https://localhost:8080/"
        },
        "outputId": "567e26bf-d5ad-415d-8759-3a41d73048ac"
      },
      "execution_count": 59,
      "outputs": [
        {
          "output_type": "stream",
          "name": "stdout",
          "text": [
            "1\n",
            "2\n",
            "3\n",
            "4\n",
            "5\n"
          ]
        }
      ]
    },
    {
      "cell_type": "markdown",
      "source": [
        "### While Loop"
      ],
      "metadata": {
        "id": "RSPlg22teTEN"
      }
    },
    {
      "cell_type": "code",
      "source": [
        "# Repeatedly execute a block of code as long as a condition is true.\n",
        "\n",
        "# Using a while loop to print numbers from 1 to 5\n",
        "i = 10\n",
        "while i >= 5:\n",
        "    print(i)\n",
        "    i -= 1  # Increment to avoid infinite loop"
      ],
      "metadata": {
        "colab": {
          "base_uri": "https://localhost:8080/"
        },
        "id": "somqOGD8eUk-",
        "outputId": "c38434d2-3f90-437a-ec0d-b608db656d70"
      },
      "execution_count": 55,
      "outputs": [
        {
          "output_type": "stream",
          "name": "stdout",
          "text": [
            "10\n",
            "9\n",
            "8\n",
            "7\n",
            "6\n",
            "5\n"
          ]
        }
      ]
    },
    {
      "cell_type": "markdown",
      "source": [
        "##### **Task: Write a program using a for loop to sum numbers from 1 to 10**"
      ],
      "metadata": {
        "id": "88UcLI42lYGU"
      }
    },
    {
      "cell_type": "markdown",
      "source": [
        "## Functions\n",
        "\n",
        "Functions are reusable blocks of code that can accept input and return output."
      ],
      "metadata": {
        "id": "ySrZoGnrejGi"
      }
    },
    {
      "cell_type": "code",
      "source": [
        "# Define a function that adds two numbers\n",
        "def add_and_subtract(a, b):\n",
        "    sum = a+b\n",
        "    subtract = a-b\n",
        "    return sum, subtract\n",
        "\n",
        "# Calling the function\n",
        "result_add, result_subtract = add_and_subtract(20, 10)\n",
        "print(result_add)\n",
        "\n",
        "print(\"Addition result:\", result_add)\n",
        "print(\"Subtraction result:\", result_subtract)"
      ],
      "metadata": {
        "colab": {
          "base_uri": "https://localhost:8080/"
        },
        "id": "n9soAaYdeXs5",
        "outputId": "d81dbaaa-550e-437d-dd39-0c530b82dc90"
      },
      "execution_count": 56,
      "outputs": [
        {
          "output_type": "stream",
          "name": "stdout",
          "text": [
            "30\n",
            "Addition result: 30\n",
            "Subtraction result: 10\n"
          ]
        }
      ]
    },
    {
      "cell_type": "code",
      "source": [
        "# Define a function that adds or multiplies\n",
        "def add_or_multiply(a, b, operation='add'):\n",
        "    if operation == 'add':\n",
        "        return a + b\n",
        "    elif operation == 'multiply':\n",
        "        return a * b\n",
        "    else:\n",
        "        return \"Invalid operation: Not Implemented\"\n",
        "\n",
        "\n",
        "result_add = add_or_multiply(10, 20, 'add')\n",
        "print(\"Addition Result:\", result_add)\n",
        "\n",
        "result_multiply = add_or_multiply(10, 20, 'multiply')\n",
        "print(\"Multiplication Result:\", result_multiply)\n",
        "\n",
        "result_subtract = add_or_multiply(10, 20, 'subtract')\n",
        "print(\"Subtraction Result:\", result_subtract)\n"
      ],
      "metadata": {
        "colab": {
          "base_uri": "https://localhost:8080/"
        },
        "id": "oP4Uz37D_MxO",
        "outputId": "7076ebfa-270d-4e87-c117-456ff7b75f44"
      },
      "execution_count": 57,
      "outputs": [
        {
          "output_type": "stream",
          "name": "stdout",
          "text": [
            "Addition Result: 30\n",
            "Multiplication Result: 200\n",
            "Subtraction Result: Invalid operation: Not Implemented\n"
          ]
        }
      ]
    },
    {
      "cell_type": "markdown",
      "source": [
        "##### **Task: Write a function `move_robot(position, direction)` that updates the robot’s position on a 2D grid based on the direction \"up\", \"down\", \"left\", or \"right\", and returns the new position. Call it and print the result**"
      ],
      "metadata": {
        "id": "Fmod2VE5lj2t"
      }
    },
    {
      "cell_type": "code",
      "source": [
        "def move_robot(position, direction):\n",
        "    x, y = position\n",
        "    if direction == \"up\":\n",
        "        y += 1\n",
        "    elif direction == \"down\":\n",
        "        y -= 1\n",
        "    elif direction == \"left\":\n",
        "        x -= 1\n",
        "    elif direction == \"right\":\n",
        "        x += 1\n",
        "    else:\n",
        "        print(\"Invalid direction\")\n",
        "\n",
        "    return (x, y)\n",
        "\n",
        "current_position = (0, 0)\n",
        "new_position = move_robot(current_position, \"up\")\n",
        "print(\"New position:\", new_position)\n",
        "\n",
        "current_position = new_position\n",
        "new_position = move_robot(current_position, \"left\")\n",
        "print(\"New position:\", new_position)"
      ],
      "metadata": {
        "colab": {
          "base_uri": "https://localhost:8080/"
        },
        "id": "jxtcEpqQRPBe",
        "outputId": "ad053be3-2fce-4987-9854-2dc7cbce62fb"
      },
      "execution_count": 58,
      "outputs": [
        {
          "output_type": "stream",
          "name": "stdout",
          "text": [
            "New position: (0, 1)\n",
            "New position: (-1, 1)\n"
          ]
        }
      ]
    },
    {
      "cell_type": "markdown",
      "source": [
        "# Working with Data\n",
        "\n",
        "## Lists, Arrays, and Dictionaries\n",
        "\n",
        "Lists are used to store multiple items. Lists are ordered, mutable, and can hold different data types."
      ],
      "metadata": {
        "id": "B_J4JK8jfSbJ"
      }
    },
    {
      "cell_type": "code",
      "source": [
        "# List Example\n",
        "numbers = [1, 2, 3, 4, 5]\n",
        "print(numbers[0])  # Accessing the first element\n",
        "\n",
        "# Appending an element\n",
        "numbers.append(6)\n",
        "print(numbers)\n",
        "\n",
        "numbers[3] = 20\n",
        "print(numbers)"
      ],
      "metadata": {
        "colab": {
          "base_uri": "https://localhost:8080/"
        },
        "id": "GNNyMlkgfHmK",
        "outputId": "dc0f6700-9951-464d-e88b-5a3801dff9c8"
      },
      "execution_count": 36,
      "outputs": [
        {
          "output_type": "stream",
          "name": "stdout",
          "text": [
            "1\n",
            "[1, 2, 3, 4, 5, 6]\n",
            "[1, 2, 3, 20, 5, 6]\n"
          ]
        }
      ]
    },
    {
      "cell_type": "code",
      "source": [
        "for i in numbers:\n",
        "  print(i)"
      ],
      "metadata": {
        "colab": {
          "base_uri": "https://localhost:8080/"
        },
        "id": "mPfLWRothy5m",
        "outputId": "ff3d6740-839c-455d-956a-e6c8bfe75363"
      },
      "execution_count": 37,
      "outputs": [
        {
          "output_type": "stream",
          "name": "stdout",
          "text": [
            "1\n",
            "2\n",
            "3\n",
            "20\n",
            "5\n",
            "6\n"
          ]
        }
      ]
    },
    {
      "cell_type": "markdown",
      "source": [
        "##### **Task: Create a list of numbers from 1 to 5, append a number, and print it**"
      ],
      "metadata": {
        "id": "olIBjBxClz9o"
      }
    },
    {
      "cell_type": "code",
      "source": [
        "numbers = []\n",
        "for i in range(1, 6):\n",
        "    numbers.append(i)\n",
        "numbers.append(7)\n",
        "print(numbers)\n"
      ],
      "metadata": {
        "colab": {
          "base_uri": "https://localhost:8080/"
        },
        "id": "p6hhJ-hqSKQa",
        "outputId": "a5645b72-5a2b-48bd-af7d-58bfb2268c51"
      },
      "execution_count": 63,
      "outputs": [
        {
          "output_type": "stream",
          "name": "stdout",
          "text": [
            "[1, 2, 3, 4, 5, 7]\n"
          ]
        }
      ]
    },
    {
      "cell_type": "markdown",
      "source": [
        "## NumPy Arrays\n",
        "NumPy is a powerful library for numerical computing. Used for handling vectors, matrices, tesnors, etc."
      ],
      "metadata": {
        "id": "kf3W6gYjgHLd"
      }
    },
    {
      "cell_type": "code",
      "source": [
        "import numpy as np\n",
        "\n",
        "# Creating NumPy arrays\n",
        "arr = np.array([1, 2, 3, 4, 5, 6, 7, 8, 9, 10])\n",
        "print(arr)\n",
        "print(arr[-2])\n",
        "print(arr[1:6])"
      ],
      "metadata": {
        "colab": {
          "base_uri": "https://localhost:8080/"
        },
        "id": "lgCiHT_9gICd",
        "outputId": "39d385bd-c85f-4a3a-aee3-debe257e8685"
      },
      "execution_count": 65,
      "outputs": [
        {
          "output_type": "stream",
          "name": "stdout",
          "text": [
            "[ 1  2  3  4  5  6  7  8  9 10]\n",
            "9\n",
            "[2 3 4 5 6]\n"
          ]
        }
      ]
    },
    {
      "cell_type": "markdown",
      "source": [
        "### Manipulating Data\n",
        "\n",
        "#### Indexing and Slicing\n",
        "Indexing is used to access specific elements in a NumPy array, while slicing allows you to extract sub-arrays\n"
      ],
      "metadata": {
        "id": "wK-dMZMqgguZ"
      }
    },
    {
      "cell_type": "markdown",
      "source": [
        "- Indexing is zero-based (the first element is index 0)\n",
        "\n",
        "- You can access elements using square brackets `[]`\n",
        "\n",
        "- You can slice arrays by specifying a range of indices (e.g., `array[start:end]`).\n",
        "\n",
        "- Slicing follows the pattern where the first index is included, but the last index is not included"
      ],
      "metadata": {
        "id": "hXv8k4Dp1LhP"
      }
    },
    {
      "cell_type": "code",
      "source": [
        "# Create a 2D array (matrix)\n",
        "arr = np.array([[1, 2, 3], [4, 5, 6], [7, 8, 9]])\n",
        "\n",
        "# Accesssing the last row\n",
        "print(arr[-1])\n",
        "\n",
        "# Accessing a single element (element at row 1, column 2)\n",
        "print(arr[1, 2])\n",
        "\n",
        "# Slicing (select all elements in the second row)\n",
        "print(arr[1,:])\n",
        "\n",
        "# Slicing (select the first two rows and the first two columns)\n",
        "print(arr[:2, :2])"
      ],
      "metadata": {
        "colab": {
          "base_uri": "https://localhost:8080/"
        },
        "id": "jlkXrG4r0O31",
        "outputId": "97ae9892-dbd6-49bc-87ab-fab21fce57bd"
      },
      "execution_count": 71,
      "outputs": [
        {
          "output_type": "stream",
          "name": "stdout",
          "text": [
            "[7 8 9]\n",
            "6\n",
            "[4 5 6]\n",
            "[[1 2]\n",
            " [4 5]]\n"
          ]
        }
      ]
    },
    {
      "cell_type": "code",
      "source": [
        "arr = np.random.rand(3, 3, 3)\n",
        "arr"
      ],
      "metadata": {
        "colab": {
          "base_uri": "https://localhost:8080/"
        },
        "id": "rhtG2-8elZxt",
        "outputId": "0d33e76d-fb77-4829-ce7e-d789e6a8a404"
      },
      "execution_count": 66,
      "outputs": [
        {
          "output_type": "execute_result",
          "data": {
            "text/plain": [
              "array([[[0.02000493, 0.16931691, 0.92150567],\n",
              "        [0.30644097, 0.85123243, 0.91998435],\n",
              "        [0.7085575 , 0.66923712, 0.2193386 ]],\n",
              "\n",
              "       [[0.47440094, 0.03020164, 0.20062262],\n",
              "        [0.63799908, 0.12804166, 0.43722065],\n",
              "        [0.43960445, 0.2397642 , 0.60881844]],\n",
              "\n",
              "       [[0.36898907, 0.13279397, 0.02154277],\n",
              "        [0.29157125, 0.82148757, 0.8473875 ],\n",
              "        [0.73310272, 0.83286364, 0.91690047]]])"
            ]
          },
          "metadata": {},
          "execution_count": 66
        }
      ]
    },
    {
      "cell_type": "code",
      "source": [
        "arr[0,1,2]"
      ],
      "metadata": {
        "colab": {
          "base_uri": "https://localhost:8080/"
        },
        "id": "7LlNefEmmOy4",
        "outputId": "9c37488b-b09d-4fb9-98c5-316781c0b2e6"
      },
      "execution_count": 42,
      "outputs": [
        {
          "output_type": "execute_result",
          "data": {
            "text/plain": [
              "0.12246541330998306"
            ]
          },
          "metadata": {},
          "execution_count": 42
        }
      ]
    },
    {
      "cell_type": "code",
      "source": [
        "np.shape(arr)"
      ],
      "metadata": {
        "colab": {
          "base_uri": "https://localhost:8080/"
        },
        "id": "jiLS8Acjpd4c",
        "outputId": "b994f593-14b4-4b6e-c86c-be66ba3defd2"
      },
      "execution_count": 43,
      "outputs": [
        {
          "output_type": "execute_result",
          "data": {
            "text/plain": [
              "(3, 3, 3)"
            ]
          },
          "metadata": {},
          "execution_count": 43
        }
      ]
    },
    {
      "cell_type": "markdown",
      "source": [
        "##### **Task: Create a 4x4 matrix of numbers from 1 to 16**\n",
        "- Access the element at the 3rd row and 2nd column\n",
        "- Extract the last column of the matrix\n",
        "- Extract a sub-matrix that includes the first two rows and the last two columns"
      ],
      "metadata": {
        "id": "4fpZfEXe2Sdr"
      }
    },
    {
      "cell_type": "code",
      "source": [
        "\n",
        "import numpy as np\n",
        "\n",
        "matrix = np.arange(1, 17).reshape(4, 4)\n",
        "print(matrix)\n",
        "\n",
        "element = matrix[2, 1]\n",
        "print(\"Element at (3, 2):\", element)\n",
        "\n",
        "last_column = matrix[:, -1]\n",
        "print(\"Last column:\", last_column)\n",
        "\n",
        "sub_matrix = matrix[:2, -2:]\n",
        "print(\"Sub-matrix:\", sub_matrix)\n"
      ],
      "metadata": {
        "colab": {
          "base_uri": "https://localhost:8080/"
        },
        "id": "b4AQ6D3wTR2m",
        "outputId": "9c2af686-a14d-48ca-8a44-9ab87c1c8e71"
      },
      "execution_count": 72,
      "outputs": [
        {
          "output_type": "stream",
          "name": "stdout",
          "text": [
            "[[ 1  2  3  4]\n",
            " [ 5  6  7  8]\n",
            " [ 9 10 11 12]\n",
            " [13 14 15 16]]\n",
            "Element at (3, 2): 10\n",
            "Last column: [ 4  8 12 16]\n",
            "Sub-matrix: [[3 4]\n",
            " [7 8]]\n"
          ]
        }
      ]
    },
    {
      "cell_type": "markdown",
      "source": [
        "\n",
        "#### Reshaping Arrays\n",
        "Reshaping is used to change the shape of an array without changing its data. This is especially useful when preparing data for machine learning models, where you often need to manipulate dimensions\n",
        "\n",
        "- `np.reshape(new_shape)` returns a new array with the desired shape\n",
        "- The total number of elements must remain the same before and after reshaping\n"
      ],
      "metadata": {
        "id": "oqOB67d127yJ"
      }
    },
    {
      "cell_type": "code",
      "source": [
        "# Create a 1D array with 9 elements\n",
        "arr = np.array([1, 2, 3, 4, 5, 6, 7, 8, 9, 10, 11, 12])\n",
        "\n",
        "# Reshaping to 3x3\n",
        "reshaped_arr = arr.reshape(3, 4)\n",
        "print(reshaped_arr)\n",
        "print(\"Shape of array before: \", arr.shape)\n",
        "print(\"Shape of array after reshaping: \", reshaped_arr.shape)"
      ],
      "metadata": {
        "colab": {
          "base_uri": "https://localhost:8080/"
        },
        "id": "oxKueYnO3TFU",
        "outputId": "12c6ce46-db92-46df-8977-b2ceb2298afc"
      },
      "execution_count": 44,
      "outputs": [
        {
          "output_type": "stream",
          "name": "stdout",
          "text": [
            "[[ 1  2  3  4]\n",
            " [ 5  6  7  8]\n",
            " [ 9 10 11 12]]\n",
            "Shape of array before:  (12,)\n",
            "Shape of array after reshaping:  (3, 4)\n"
          ]
        }
      ]
    },
    {
      "cell_type": "markdown",
      "source": [
        "##### **Task: Create a 1D array of 16 elements ranging from 1 to 16**\n",
        "- Reshape it into a 4x4 array\n",
        "- Try reshaping it to 4x3 and observe what happens (if incompatible)"
      ],
      "metadata": {
        "id": "eCxOc9I84Eyt"
      }
    },
    {
      "cell_type": "code",
      "source": [
        "arr = np.arange(1, 17)\n",
        "print(\"array:\\n\", arr)\n",
        "\n",
        "reshaped44 = arr.reshape(4, 4)\n",
        "print(\"\\n\", reshaped44)\n",
        "print(\"Shape of the matrix:\", reshaped44.shape)\n",
        "\n",
        "try:\n",
        "    reshaped43 = arr.reshape(4, 3)\n",
        "    print(\"\\nReshaped 4x3:\\n\", reshaped43)\n",
        "    print(\"Shape after reshaping to 4x3:\", reshaped43.shape)\n",
        "except ValueError as e:\n",
        "    print(\"\\nError reshaping to 4x3:\", e)\n"
      ],
      "metadata": {
        "colab": {
          "base_uri": "https://localhost:8080/"
        },
        "id": "TEaSeMDXUt18",
        "outputId": "840dd8a9-aeda-4f34-88cb-f8b3006cc6ca"
      },
      "execution_count": 85,
      "outputs": [
        {
          "output_type": "stream",
          "name": "stdout",
          "text": [
            "array:\n",
            " [ 1  2  3  4  5  6  7  8  9 10 11 12 13 14 15 16]\n",
            "\n",
            " [[ 1  2  3  4]\n",
            " [ 5  6  7  8]\n",
            " [ 9 10 11 12]\n",
            " [13 14 15 16]]\n",
            "Shape of the matrix: (4, 4)\n",
            "\n",
            "Error reshaping to 4x3: cannot reshape array of size 16 into shape (4,3)\n"
          ]
        }
      ]
    },
    {
      "cell_type": "markdown",
      "source": [
        "#### Element-wise Operations\n",
        "\n",
        "In NumPy, element-wise operations allow you to perform operations on entire arrays (or sub-arrays) without needing explicit loops\n",
        "\n",
        "- Operations like addition, multiplication, subtraction, and division are automatically applied element-wise on arrays\n",
        "- You can also apply functions like `np.sum`, `np.mean`, `np.sqrt`, `np.exp`, etc., element-wise"
      ],
      "metadata": {
        "id": "LArOc-XB4XPV"
      }
    },
    {
      "cell_type": "code",
      "source": [
        "# Element-wise operations\n",
        "arr1 = np.array([1, 2, 3])\n",
        "arr2 = np.array([4, 5, 6])\n",
        "\n",
        "# Addition\n",
        "result = arr1 + arr2  # Element-wise addition\n",
        "print(result)\n",
        "\n",
        "# Multiplication (element-wise)\n",
        "result = arr1 * arr2\n",
        "print(result)\n",
        "\n",
        "arr3 = np.array([[1, 2, 3], [4, 5, 6]])\n",
        "\n",
        "# Sum along rows (axis 1)\n",
        "print(\"Sum of arr3 along dimension 1 is: \", np.sum(arr3, axis=1))\n",
        "\n",
        "# Mean of the entire array\n",
        "print(\"Mean of entire arr3 is: \", np.mean(arr3, axis=1))"
      ],
      "metadata": {
        "colab": {
          "base_uri": "https://localhost:8080/"
        },
        "id": "wBM3eDat5cbt",
        "outputId": "f59aa78a-b20b-4d7a-9dde-a8dccc31fd70"
      },
      "execution_count": 45,
      "outputs": [
        {
          "output_type": "stream",
          "name": "stdout",
          "text": [
            "[5 7 9]\n",
            "[ 4 10 18]\n",
            "Sum of arr3 along dimension 1 is:  [ 6 15]\n",
            "Mean of entire arr3 is:  [2. 5.]\n"
          ]
        }
      ]
    },
    {
      "cell_type": "markdown",
      "source": [
        "##### **Task: Create two 1D arrays of 5 elements**\n",
        "\n",
        "- Perform element-wise addition, multiplication, and subtraction between the two arrays\n",
        "- Create a new array and apply different functions to it, displaying the result"
      ],
      "metadata": {
        "id": "Gf_gudKumAsw"
      }
    },
    {
      "cell_type": "code",
      "source": [
        "# Create two 1D arrays of 5 elements\n",
        "arr1 = np.array([1, 2, 3, 4, 5])\n",
        "arr2 = np.array([6, 7, 8, 9, 10])\n",
        "\n",
        "#addition\n",
        "addition_result = arr1 + arr2\n",
        "print(\"Addition:\", addition_result)\n",
        "\n",
        "#multiplication\n",
        "multiplication_result = arr1 * arr2\n",
        "print(\"Multiplication:\", multiplication_result)\n",
        "\n",
        "#subtraction\n",
        "subtraction_result = arr1 - arr2\n",
        "print(\"Subtraction:\", subtraction_result)\n",
        "\n",
        "# Create a new array\n",
        "new_array = np.array([1, 2, 3, 4, 5])\n",
        "\n",
        "# Apply different functions\n",
        "print(\"Sum:\", np.sum(new_array))\n",
        "print(\"Mean:\", np.mean(new_array))\n",
        "print(\"Square root:\", np.sqrt(new_array))\n",
        "print(\"Exponential:\", np.exp(new_array))\n"
      ],
      "metadata": {
        "colab": {
          "base_uri": "https://localhost:8080/"
        },
        "id": "PCeUOBmtXLuP",
        "outputId": "83f0a795-0a91-4d85-cff3-215686610ae6"
      },
      "execution_count": 87,
      "outputs": [
        {
          "output_type": "stream",
          "name": "stdout",
          "text": [
            "Addition: [ 7  9 11 13 15]\n",
            "Multiplication: [ 6 14 24 36 50]\n",
            "Subtraction: [-5 -5 -5 -5 -5]\n",
            "Sum: 15\n",
            "Mean: 3.0\n",
            "Square root: [1.         1.41421356 1.73205081 2.         2.23606798]\n",
            "Exponential: [  2.71828183   7.3890561   20.08553692  54.59815003 148.4131591 ]\n"
          ]
        }
      ]
    },
    {
      "cell_type": "markdown",
      "source": [
        "#### Matrix Operations"
      ],
      "metadata": {
        "id": "nRDF50RT6dB9"
      }
    },
    {
      "cell_type": "code",
      "source": [
        "# 2x2 Matrix Example\n",
        "A = np.array([[1, 2], [3, 4]])\n",
        "B = np.array([[5, 6], [7, 8]])\n",
        "\n",
        "# Matrix multiplication\n",
        "C = np.dot(A, B) # or np.matmul(A, B)\n",
        "D = np.cross(A, B)\n",
        "print(C)\n",
        "print(D)"
      ],
      "metadata": {
        "colab": {
          "base_uri": "https://localhost:8080/"
        },
        "id": "XgY-zeYngWa4",
        "outputId": "dc4452bd-f777-4230-85a7-1d34a6c64eee"
      },
      "execution_count": 46,
      "outputs": [
        {
          "output_type": "stream",
          "name": "stdout",
          "text": [
            "[[19 22]\n",
            " [43 50]]\n",
            "[-4 -4]\n"
          ]
        }
      ]
    },
    {
      "cell_type": "code",
      "source": [
        "np.arange(0,10)"
      ],
      "metadata": {
        "colab": {
          "base_uri": "https://localhost:8080/"
        },
        "id": "IcI10-IqsWSI",
        "outputId": "7c8f9248-8e62-40ca-cc9b-13555da8eb06"
      },
      "execution_count": 47,
      "outputs": [
        {
          "output_type": "execute_result",
          "data": {
            "text/plain": [
              "array([0, 1, 2, 3, 4, 5, 6, 7, 8, 9])"
            ]
          },
          "metadata": {},
          "execution_count": 47
        }
      ]
    },
    {
      "cell_type": "markdown",
      "source": [
        "#### Broadcasting\n",
        "Broadcasting refers to NumPy's ability to perform element-wise operations on arrays of different shapes. It automatically expands the smaller array to match the shape of the larger one when possible.\n",
        "\n",
        "- Broadcasting only happens if the dimensions are compatible.\n",
        "- Smaller arrays are broadcast across the larger arrays to perform element-wise operations."
      ],
      "metadata": {
        "id": "Lh_GkUxP8H8k"
      }
    },
    {
      "cell_type": "code",
      "source": [
        "arr = np.array([[1, 2, 3], [4, 5, 6]])\n",
        "\n",
        "# Adding a 1D array to each row of the 2D array\n",
        "result = arr + np.array([1, 0, -1])\n",
        "print(result)"
      ],
      "metadata": {
        "colab": {
          "base_uri": "https://localhost:8080/"
        },
        "id": "qIUW-bwU8Obc",
        "outputId": "6c22e6f4-4ad8-4f10-c101-8b97fd94f3c5"
      },
      "execution_count": 48,
      "outputs": [
        {
          "output_type": "stream",
          "name": "stdout",
          "text": [
            "[[2 2 2]\n",
            " [5 5 5]]\n"
          ]
        }
      ]
    },
    {
      "cell_type": "code",
      "source": [
        "arr = np.array([[1, 2, 3], [4, 5, 6]])\n",
        "arr2 = np.array([1, 0, -1])\n",
        "arr3 = np.array([[1, 0, -1], [1, 0, -1]])\n",
        "\n",
        "print(\"First array is : \\n\",arr, \"\\nwith Shape of: \\n\", arr.shape)\n",
        "print(\"Second array is : \\n\",arr2, \"\\nwith Shape of: \\n\", arr2.shape)\n",
        "# Adding a 1D array to each row of the 2D array\n",
        "result = arr + arr2\n",
        "print(\"Adding First and Second array gives : \\n\",result)"
      ],
      "metadata": {
        "colab": {
          "base_uri": "https://localhost:8080/"
        },
        "id": "xxzqQtgbw9Ov",
        "outputId": "27df8b04-9cff-417d-b189-14eb05dca6b9"
      },
      "execution_count": 49,
      "outputs": [
        {
          "output_type": "stream",
          "name": "stdout",
          "text": [
            "First array is : \n",
            " [[1 2 3]\n",
            " [4 5 6]] \n",
            "with Shape of: \n",
            " (2, 3)\n",
            "Second array is : \n",
            " [ 1  0 -1] \n",
            "with Shape of: \n",
            " (3,)\n",
            "Adding First and Second array gives : \n",
            " [[2 2 2]\n",
            " [5 5 5]]\n"
          ]
        }
      ]
    },
    {
      "cell_type": "markdown",
      "source": [
        "- ##### **Task: Create a 3x3 matrix and add a 1D array to it and print result**\n",
        "\n",
        "- ##### **Task: Create a 2x3 matrix and multiply it by a scalar**"
      ],
      "metadata": {
        "id": "hW-OQQtwmMxK"
      }
    },
    {
      "cell_type": "code",
      "source": [
        "matrix_3x3 = np.array([[1, 2, 3], [4, 5, 6], [7, 8, 9]])\n",
        "array_1d = np.array([1, 0, -1])\n",
        "result_matrix = matrix_3x3 + array_1d\n",
        "print(\"Resultant matrix:\\n\", result_matrix)\n",
        "\n",
        "matrix_2x3 = np.array([[1, 2, 3], [4, 5, 6]])\n",
        "scalar = 5\n",
        "result_scalar_multiplication = matrix_2x3 * scalar\n",
        "print(\"\\nScalar multiplication:\\n\", result_scalar_multiplication)\n"
      ],
      "metadata": {
        "colab": {
          "base_uri": "https://localhost:8080/"
        },
        "id": "_QVyZDmJYjnS",
        "outputId": "3a53a8be-66a2-4895-83d6-a52e227b4942"
      },
      "execution_count": 89,
      "outputs": [
        {
          "output_type": "stream",
          "name": "stdout",
          "text": [
            "Resultant matrix:\n",
            " [[2 2 2]\n",
            " [5 5 5]\n",
            " [8 8 8]]\n",
            "\n",
            "Scalar multiplication:\n",
            " [[ 5 10 15]\n",
            " [20 25 30]]\n"
          ]
        }
      ]
    },
    {
      "cell_type": "markdown",
      "source": [
        "## Dictionaries\n",
        "A dictionary is a collection of data stored as key-value pairs. It’s ideal for storing data that has a meaningful association between the key (unique identifier) and the value (the data associated with that key)"
      ],
      "metadata": {
        "id": "CHtrVo5_phKy"
      }
    },
    {
      "cell_type": "code",
      "source": [
        "# Creating a dictionary with general information\n",
        "student = {\n",
        "    \"name\": \"John\",\n",
        "    \"age\": 23,\n",
        "    \"major\": \"Mechanical Engineering\",\n",
        "    \"grades\": [27, 103],\n",
        "    \"is_enrolled\": True\n",
        "}\n",
        "\n",
        "# Accessing values using keys\n",
        "print(student[\"name\"])\n",
        "print(student[\"grades\"])\n",
        "\n",
        "# Modifying a value (updating the age)\n",
        "student[\"age\"] = 23\n",
        "print(student[\"age\"])\n",
        "\n",
        "# Adding a new key-value pair (adding graduation year)\n",
        "student[\"graduation_year\"] = 2025\n",
        "print(student[\"graduation_year\"])\n",
        "\n",
        "# Deleting a key-value pair (removing enrollment status)\n",
        "del student[\"is_enrolled\"]\n",
        "\n",
        "# Displaying the updated dictionary\n",
        "print(student)\n"
      ],
      "metadata": {
        "colab": {
          "base_uri": "https://localhost:8080/"
        },
        "id": "owZl_N-6phg4",
        "outputId": "a5f1f77f-4319-413f-8f43-36a89e0890ad"
      },
      "execution_count": 50,
      "outputs": [
        {
          "output_type": "stream",
          "name": "stdout",
          "text": [
            "John\n",
            "[27, 103]\n",
            "23\n",
            "2025\n",
            "{'name': 'John', 'age': 23, 'major': 'Mechanical Engineering', 'grades': [27, 103], 'graduation_year': 2025}\n"
          ]
        }
      ]
    },
    {
      "cell_type": "code",
      "source": [
        "# Printing dictionary with a for loop\n",
        "for key, value in student.items():\n",
        "  print(key, value)"
      ],
      "metadata": {
        "colab": {
          "base_uri": "https://localhost:8080/"
        },
        "id": "ibcYFRXSquXV",
        "outputId": "2e3dbce9-1413-41e8-9243-b811e5a01678"
      },
      "execution_count": 51,
      "outputs": [
        {
          "output_type": "stream",
          "name": "stdout",
          "text": [
            "name John\n",
            "age 23\n",
            "major Mechanical Engineering\n",
            "grades [27, 103]\n",
            "graduation_year 2025\n"
          ]
        }
      ]
    },
    {
      "cell_type": "markdown",
      "source": [
        "##### **Task: Create a dictionary called travel_info that contains the following information about a trip: Destination `string`, Duration `integer`, Activities `list of strings`, Is Booked `boolean`**"
      ],
      "metadata": {
        "id": "QEq2tr-hrkw1"
      }
    },
    {
      "cell_type": "code",
      "source": [
        "travel_info = {\n",
        "    \"Destination\": \"Mexico\",\n",
        "    \"Duration (days)\": 15,\n",
        "    \"Activities\": [\"wedding\", \"dance\", \"eat\", \"take pictures\"],\n",
        "    \"Is Booked\": True\n",
        "}\n",
        "print(travel_info)\n",
        "for key, value in travel_info.items():\n",
        "  print(\"\\n\", key, value)"
      ],
      "metadata": {
        "colab": {
          "base_uri": "https://localhost:8080/"
        },
        "id": "cgltHqaUZC18",
        "outputId": "f8cd40b3-e556-4c3a-b7a0-a0e340e3f850"
      },
      "execution_count": 95,
      "outputs": [
        {
          "output_type": "stream",
          "name": "stdout",
          "text": [
            "{'Destination': 'Mexico', 'Duration (days)': 15, 'Activities': ['wedding', 'dance', 'eat', 'take pictures'], 'Is Booked': True}\n",
            "\n",
            " Destination Mexico\n",
            "\n",
            " Duration (days) 15\n",
            "\n",
            " Activities ['wedding', 'dance', 'eat', 'take pictures']\n",
            "\n",
            " Is Booked True\n"
          ]
        }
      ]
    },
    {
      "cell_type": "markdown",
      "source": [],
      "metadata": {
        "id": "iN3QfDeiZZma"
      }
    },
    {
      "cell_type": "markdown",
      "source": [
        "# Object-Oriented Programming\n",
        "Allows you to structure your code in terms of \"objects,\" which are instances of \"classes.\" This approach organizes code into reusable entities.\n",
        "\n",
        "## Key Concepts in OOP:\n",
        "\n",
        "**Class:** A blueprint for creating objects (a particular data structure).\n",
        "\n",
        "**Object:** An instance of a class, created based on the class blueprint.\n",
        "\n",
        "**Attributes:** Data stored within an object.\n",
        "\n",
        "**Methods:** Functions defined inside a class that operate on the attributes\n",
        "\n"
      ],
      "metadata": {
        "id": "NFhnMkO1g8IA"
      }
    },
    {
      "cell_type": "markdown",
      "source": [
        "### Defining Classes and Creating Objects"
      ],
      "metadata": {
        "id": "ljGB2cUAh0GP"
      }
    },
    {
      "cell_type": "code",
      "source": [
        "# Define a class called Robot\n",
        "class Robot:\n",
        "    # Class constructor (initializer)\n",
        "    def __init__(self, name, type_of_robot):\n",
        "        self.name = name  # Attribute\n",
        "        self.type_of_robot = type_of_robot  # Attribute\n",
        "\n",
        "    # A method to display information about the robot\n",
        "    def display_info(self):\n",
        "        print(f\"Robot Name: {self.name}\")\n",
        "        print(f\"Robot Type: {self.type_of_robot}\")\n",
        "\n",
        "\n",
        "# Create objects (instances of the class)\n",
        "robot1 = Robot(\"G1\", \"Humanoid\")\n",
        "robot2 = Robot(\"Panda\", \"Manipulator\")\n",
        "\n",
        "# Call the display_info method on each robot\n",
        "robot1.display_info()\n",
        "robot2.display_info()"
      ],
      "metadata": {
        "colab": {
          "base_uri": "https://localhost:8080/"
        },
        "id": "7LziuuSHgajp",
        "outputId": "2e26e2a1-07c5-4ed0-d8db-bccd8721fed8"
      },
      "execution_count": null,
      "outputs": [
        {
          "output_type": "stream",
          "name": "stdout",
          "text": [
            "Robot Name: G1\n",
            "Robot Type: Humanoid\n",
            "Robot Name: Panda\n",
            "Robot Type: Manipulator\n"
          ]
        }
      ]
    },
    {
      "cell_type": "markdown",
      "source": [
        "`__init__`: The constructor method initializes the attributes of the class when an object is created\n",
        "\n",
        "`self`: Refers to the current instance of the class. It’s used to access attributes and methods in the class."
      ],
      "metadata": {
        "id": "TJfKdN11ipm_"
      }
    },
    {
      "cell_type": "markdown",
      "source": [
        "##### **Task: Create a Robot class with methods to charge the battery and check the robot's status, then create an instance to test these methods**"
      ],
      "metadata": {
        "id": "h6KEJws9n5Og"
      }
    },
    {
      "cell_type": "code",
      "source": [
        "class Robot:\n",
        "    def __init__(self, name, type_of_robot):\n",
        "        self.name = name\n",
        "        self.type_of_robot = type_of_robot\n",
        "        self.battery_level = 0\n",
        "\n",
        "    def display_info(self):\n",
        "        print(f\"Robot Name: {self.name}\")\n",
        "        print(f\"Robot Type: {self.type_of_robot}\")\n",
        "\n",
        "    def charge_battery(self):\n",
        "        self.battery_level = 100\n",
        "        print(f\"{self.name} is now fully charged!\")\n",
        "\n",
        "    def check_status(self):\n",
        "        print(f\"{self.name}'s current battery level: {self.battery_level}%\")\n",
        "\n",
        "#instance to test\n",
        "robot1 = Robot(\"Bot_test\", \"AGV\")\n",
        "\n",
        "robot1.display_info()\n",
        "\n",
        "# Check status (should be 0%)\n",
        "robot1.check_status()\n",
        "\n",
        "# Charge the battery (simulate the charge)\n",
        "robot1.charge_battery()\n",
        "\n",
        "# Check status again (battery is 100%)\n",
        "robot1.check_status()\n"
      ],
      "metadata": {
        "colab": {
          "base_uri": "https://localhost:8080/"
        },
        "id": "BJ_Cfk-WaBWa",
        "outputId": "4621b229-0971-48a4-c44a-041d8b6c5038"
      },
      "execution_count": 96,
      "outputs": [
        {
          "output_type": "stream",
          "name": "stdout",
          "text": [
            "Robot Name: Bot_test\n",
            "Robot Type: AGV\n",
            "Bot_test's current battery level: 0%\n",
            "Bot_test is now fully charged!\n",
            "Bot_test's current battery level: 100%\n"
          ]
        }
      ]
    },
    {
      "cell_type": "markdown",
      "source": [
        "### Class Inheritance\n",
        "Inheritance allows one class to inherit the attributes and methods of another class\n",
        "\n",
        "Child classes can also extend the behavior of base class"
      ],
      "metadata": {
        "id": "C3fMj9obi5Dx"
      }
    },
    {
      "cell_type": "code",
      "source": [
        "# Base class\n",
        "class Robot:\n",
        "    def __init__(self, name, model):\n",
        "        self.name = name\n",
        "        self.model = model\n",
        "\n",
        "    def perform_task(self):\n",
        "        print(f\"{self.name} is performing a general task.\")\n",
        "\n",
        "# Derived class (inherits from Robot)\n",
        "class CleaningRobot(Robot):\n",
        "    def __init__(self, name, model, battery_level):\n",
        "        super().__init__(name, model)\n",
        "        self.battery_level = battery_level\n",
        "\n",
        "    def perform_task(self):\n",
        "        print(f\"{self.name} is cleaning the area.\")\n",
        "\n",
        "    def charge(self, amount):\n",
        "        self.battery_level += amount\n",
        "        print(f\"{self.name}'s battery is now at {self.battery_level}%.\")\n",
        "\n",
        "# Creating an object of the CleaningRobot class\n",
        "cleaning_robot = CleaningRobot(\"Roomba\", \"J9\", 50)\n",
        "\n",
        "# Calling methods\n",
        "cleaning_robot.perform_task()\n",
        "cleaning_robot.charge(10)\n",
        "cleaning_robot.battery_level()"
      ],
      "metadata": {
        "colab": {
          "base_uri": "https://localhost:8080/"
        },
        "id": "2ZHN6SLNi8BT",
        "outputId": "f800cb79-7d57-47a9-e24c-2ab67fb9b752"
      },
      "execution_count": null,
      "outputs": [
        {
          "output_type": "stream",
          "name": "stdout",
          "text": [
            "Roomba is cleaning the area.\n",
            "Roomba's battery is now at 95%.\n"
          ]
        }
      ]
    },
    {
      "cell_type": "markdown",
      "source": [
        "The `CleaningRobot` class inherits from the base Robot class and gains its properties (`name`, `model`) and methods (`perform_task`)\n",
        "\n",
        "The CleaningRobot class overrides the `perform_task` method to provide specific functionality for cleaning tasks\n",
        "\n",
        "It also adds a new method, `charge`, to manage the battery level"
      ],
      "metadata": {
        "id": "oYD1ln0htYEu"
      }
    },
    {
      "cell_type": "markdown",
      "source": [
        "##### **Task: Create a parent class and child class**\n",
        "\n",
        "- Create a parent class Robot with common attributes (`name`, `manufacturer`, `ndof`).\n",
        "- Then, create child classes for different types of robots: `Manipulator`, `Humanoid`, and `MobileRobot`.\n",
        "- Each child class should have unique attributes and methods to display robot-specific details.\n",
        "\n",
        "  **Hints**\n",
        "- In the parent class, use kwargs to store additional attributes.\n",
        "- Implement a `display()` method to show both shared and specific details for each robot.\n",
        "- You can add `max_reach` to `manipulator`, `height` to `Humanoid`, and `max_speed` to `MobileRobot`.\n",
        "- Instantiate each robot class and print their details."
      ],
      "metadata": {
        "id": "zjrzJHNjHM1L"
      }
    },
    {
      "cell_type": "code",
      "source": [
        "class Robot:\n",
        "    def __init__(self, name, manufacturer, ndof):\n",
        "        self.name = name\n",
        "        self.manufacturer = manufacturer\n",
        "        self.ndof = ndof\n",
        "\n",
        "    def display(self):\n",
        "        print(f\"Name: {self.name}\")\n",
        "        print(f\"Manufacturer: {self.manufacturer}\")\n",
        "        print(f\"Degrees of Freedom: {self.ndof}\")\n",
        "\n",
        "class Manipulator(Robot):\n",
        "    def __init__(self, name, manufacturer, ndof, max_reach):\n",
        "        super().__init__(name, manufacturer, ndof)\n",
        "        self.max_reach = max_reach\n",
        "\n",
        "    def display(self):\n",
        "        print(\"\\nManipulator Robot\")\n",
        "        super().display()\n",
        "        print(f\"Max Reach: {self.max_reach}\")\n",
        "\n",
        "\n",
        "class Humanoid(Robot):\n",
        "    def __init__(self, name, manufacturer, ndof, height):\n",
        "        super().__init__(name, manufacturer, ndof)\n",
        "        self.height = height\n",
        "\n",
        "    def display(self):\n",
        "        print(\"\\nHumanoid Robot\")\n",
        "        super().display()\n",
        "        print(f\"Height: {self.height}\")\n",
        "\n",
        "\n",
        "class MobileRobot(Robot):\n",
        "    def __init__(self, name, manufacturer, ndof, max_speed):\n",
        "        super().__init__(name, manufacturer, ndof)\n",
        "        self.max_speed = max_speed\n",
        "\n",
        "    def display(self):\n",
        "        print(\"\\nMobile Robot\")\n",
        "        super().display()\n",
        "        print(f\"Max Speed: {self.max_speed}\")\n",
        "\n",
        "manipulator_robot = Manipulator(\"Ur10e\", \"Universal Robots\", 6, max_reach=2.5)\n",
        "humanoid_robot = Humanoid(\"Atlas\", \"Boston Dynamics\", 20, height=1.8)\n",
        "mobile_robot = MobileRobot(\"Rover\", \"AutoBots\", 4, max_speed=10.5)\n",
        "\n",
        "# Print their details\n",
        "manipulator_robot.display()\n",
        "humanoid_robot.display()\n",
        "mobile_robot.display()\n"
      ],
      "metadata": {
        "colab": {
          "base_uri": "https://localhost:8080/"
        },
        "id": "aeA2HmwcbHMi",
        "outputId": "7b0cf217-b48b-48cd-9c07-6deac5706611"
      },
      "execution_count": 98,
      "outputs": [
        {
          "output_type": "stream",
          "name": "stdout",
          "text": [
            "\n",
            "Manipulator Robot\n",
            "Name: Ur10e\n",
            "Manufacturer: Universal Robots\n",
            "Degrees of Freedom: 6\n",
            "Max Reach: 2.5\n",
            "\n",
            "Humanoid Robot\n",
            "Name: Atlas\n",
            "Manufacturer: Boston Dynamics\n",
            "Degrees of Freedom: 20\n",
            "Height: 1.8\n",
            "\n",
            "Mobile Robot\n",
            "Name: Rover\n",
            "Manufacturer: AutoBots\n",
            "Degrees of Freedom: 4\n",
            "Max Speed: 10.5\n"
          ]
        }
      ]
    },
    {
      "cell_type": "markdown",
      "source": [
        "##### Solutions"
      ],
      "metadata": {
        "id": "i3vW1w0RIpuP"
      }
    },
    {
      "cell_type": "code",
      "source": [
        "# TASK\n",
        "def move_robot(position, direction):\n",
        "    if direction == \"up\":\n",
        "        position[1] += 1\n",
        "    elif direction == \"down\":\n",
        "        position[1] -= 1\n",
        "    elif direction == \"left\":\n",
        "        position[0] -= 1\n",
        "    elif direction == \"right\":\n",
        "        position[0] += 1\n",
        "    return position\n",
        "\n",
        "robot_position = [0, 0]\n",
        "print(move_robot(robot_position, \"up\"))"
      ],
      "metadata": {
        "colab": {
          "base_uri": "https://localhost:8080/"
        },
        "id": "wfIqcCeV9utb",
        "outputId": "7c5e9148-6f56-46f2-c45c-955de04cd6c3"
      },
      "execution_count": null,
      "outputs": [
        {
          "output_type": "stream",
          "name": "stdout",
          "text": [
            "[0, 1]\n"
          ]
        }
      ]
    },
    {
      "cell_type": "code",
      "source": [
        "# TASK\n",
        "class Robot:\n",
        "    def __init__(self, name, robot_type, battery_level):\n",
        "        self.name = name\n",
        "        self.robot_type = robot_type\n",
        "        self.battery_level = battery_level\n",
        "\n",
        "    def charge(self, amount):\n",
        "        self.battery_level += amount\n",
        "        print(f\"{self.name} charged by {amount}%. New battery level: {self.battery_level}%\")\n",
        "\n",
        "    def status_check(self):\n",
        "        print(f\"{self.name} is a {self.robot_type} robot with {self.battery_level}% battery.\")\n",
        "\n",
        "# Create an object (instance) of Robot\n",
        "robot1 = Robot(\"Atlas\", \"Humanoid\", 60)\n",
        "\n",
        "# Call methods\n",
        "robot1.charge(10)\n",
        "robot1.status_check()\n"
      ],
      "metadata": {
        "colab": {
          "base_uri": "https://localhost:8080/"
        },
        "id": "0lnAu9TXjPHJ",
        "outputId": "acdfc5e0-3610-41e1-eb78-ff03b179d64c"
      },
      "execution_count": null,
      "outputs": [
        {
          "output_type": "stream",
          "name": "stdout",
          "text": [
            "Atlas charged by 10%. New battery level: 70%\n",
            "Atlas is a Humanoid robot with 70% battery.\n"
          ]
        }
      ]
    },
    {
      "cell_type": "code",
      "source": [
        "# TASK\n",
        "class Robot:\n",
        "    def __init__(self, name, manufacturer, ndof, **kwargs):\n",
        "        self.name = name\n",
        "        self.manufacturer = manufacturer\n",
        "        self.ndof = ndof\n",
        "        self.additional_attributes = kwargs  # Store robot-specific attributes as key-value pairs\n",
        "\n",
        "    def info(self):\n",
        "        basic_info = f\"{self.name} by {self.manufacturer} with {self.ndof} DOF\"\n",
        "        return basic_info\n",
        "\n",
        "    def display(self):\n",
        "        info_str = self.info()\n",
        "        for key, value in self.additional_attributes.items():\n",
        "            info_str += f\", {key}: {value}\"\n",
        "        return info_str\n",
        "\n",
        "# Manipulator\n",
        "class Manipulator(Robot):\n",
        "    def __init__(self, name, manufacturer, ndof, max_reach):\n",
        "        super().__init__(name, manufacturer, ndof, max_reach=max_reach)\n",
        "\n",
        "    def manipulator_info(self):\n",
        "        return self.display()  # Inherits info from Robot and adds arm length\n",
        "\n",
        "# Humanoid\n",
        "class Humanoid(Robot):\n",
        "    def __init__(self, name, manufacturer, ndof, height):\n",
        "        super().__init__(name, manufacturer, ndof, height=height)\n",
        "\n",
        "    def humanoid_info(self):\n",
        "        return self.display()  # Inherits info from Robot and adds height\n",
        "\n",
        "# MobileRobot\n",
        "class MobileRobot(Robot):\n",
        "    def __init__(self, name, manufacturer, ndof, max_speed):\n",
        "        super().__init__(name, manufacturer, ndof, max_speed=max_speed)\n",
        "\n",
        "    def mobile_info(self):\n",
        "        return self.display()  # Inherits info from Robot and adds max speed\n",
        "\n",
        "# Create instances\n",
        "manipulator = Manipulator(\"UR10e\", \"Universal Robot\", 6, max_reach=1.3)\n",
        "humanoid = Humanoid(\"H1\", \"Unitree Robotics\", 27, height=1.8)\n",
        "mobile = MobileRobot(\"Robo Master\", \"dji\", 4, max_speed=3.5)\n",
        "\n",
        "# Print robot-specific info\n",
        "print(manipulator.manipulator_info())\n",
        "print(humanoid.humanoid_info())\n",
        "print(mobile.mobile_info())\n"
      ],
      "metadata": {
        "colab": {
          "base_uri": "https://localhost:8080/"
        },
        "id": "CyvgDVEXoO9C",
        "outputId": "1c5f14a9-c233-4d93-f2c3-6d6444783d70"
      },
      "execution_count": null,
      "outputs": [
        {
          "output_type": "stream",
          "name": "stdout",
          "text": [
            "UR10e by Universal Robot with 6 DOF, max_reach: 1.3\n",
            "H1 by Unitree Robotics with 27 DOF, height: 1.8\n",
            "Robo Master by dji with 4 DOF, max_speed: 3.5\n"
          ]
        }
      ]
    },
    {
      "cell_type": "code",
      "source": [],
      "metadata": {
        "id": "KkzwOXbUG1Pw"
      },
      "execution_count": null,
      "outputs": []
    }
  ]
}